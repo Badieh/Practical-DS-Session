{
 "cells": [
  {
   "cell_type": "markdown",
   "metadata": {},
   "source": [
    "# Imports"
   ]
  },
  {
   "cell_type": "code",
   "execution_count": null,
   "metadata": {
    "execution": {
     "iopub.execute_input": "2021-08-12T12:46:22.108727Z",
     "iopub.status.busy": "2021-08-12T12:46:22.108151Z",
     "iopub.status.idle": "2021-08-12T12:46:32.299625Z",
     "shell.execute_reply": "2021-08-12T12:46:32.298503Z",
     "shell.execute_reply.started": "2021-08-12T12:46:22.108691Z"
    }
   },
   "outputs": [],
   "source": [
    "import pandas as pd\n",
    "import numpy as np\n",
    "# Data Visualizations\n",
    "import seaborn as sns\n",
    "import matplotlib.pyplot as plt\n",
    "sns.set(font_scale= 2)\n",
    "\n",
    "import re\n",
    "import string\n",
    "import os\n",
    "from tqdm import tqdm\n",
    "from time import time\n",
    "\n",
    "\n",
    "import torch\n",
    "import torch.nn as nn\n",
    "import torch.nn.functional as F\n",
    "from torch.utils.data import DataLoader, ConcatDataset\n",
    "from torchvision import transforms, datasets, models\n",
    "from PIL import Image\n",
    "\n",
    "from sklearn import model_selection\n",
    "from sklearn.metrics import confusion_matrix, classification_report"
   ]
  },
  {
   "cell_type": "markdown",
   "metadata": {},
   "source": [
    "### Device"
   ]
  },
  {
   "cell_type": "code",
   "execution_count": null,
   "metadata": {
    "execution": {
     "iopub.execute_input": "2021-08-12T12:46:32.301615Z",
     "iopub.status.busy": "2021-08-12T12:46:32.301345Z",
     "iopub.status.idle": "2021-08-12T12:46:32.308967Z",
     "shell.execute_reply": "2021-08-12T12:46:32.307993Z",
     "shell.execute_reply.started": "2021-08-12T12:46:32.301588Z"
    }
   },
   "outputs": [],
   "source": [
    "if torch.cuda.is_available():\n",
    "    print(f\"GPU:{torch.cuda.get_device_name()}\")\n",
    "    DEVICE = torch.device('cuda')\n",
    "else:\n",
    "    DEVICE = torch.device('cpu')\n",
    "    print(DEVICE)"
   ]
  },
  {
   "cell_type": "markdown",
   "metadata": {},
   "source": [
    "### Helper Methods"
   ]
  },
  {
   "cell_type": "code",
   "execution_count": 3,
   "metadata": {
    "execution": {
     "iopub.execute_input": "2021-08-12T12:46:32.310759Z",
     "iopub.status.busy": "2021-08-12T12:46:32.310467Z",
     "iopub.status.idle": "2021-08-12T12:46:32.336422Z",
     "shell.execute_reply": "2021-08-12T12:46:32.335403Z",
     "shell.execute_reply.started": "2021-08-12T12:46:32.310731Z"
    }
   },
   "outputs": [],
   "source": [
    "\n",
    "def remainig_time(tt):\n",
    "    if tt/60 < 1:\n",
    "        return \"{} sec\".format(int(tt))\n",
    "    if tt/60/60 < 1:\n",
    "        return \"{} min\".format(int(tt/60))\n",
    "    if tt/60/60/24 < 1:\n",
    "        mins = tt/60\n",
    "        hrs = mins/60\n",
    "        return \"{:.2f} hrs\".format(hrs)\n",
    "    if tt/60/60/24 > 1:\n",
    "        days = tt/60/60/24\n",
    "        return \"{:.2f} days\".format(days)\n",
    "\n",
    "\n",
    "def save_model(model, optim, loss_train, loss_val, acc_train, acc_val, epoch, model_name, model_path=''):\n",
    "    torch.save({\n",
    "        'model_state_dict': model.state_dict(),\n",
    "        'optimizer_state_dict': optim.state_dict(),\n",
    "        'loss_train': loss_train,\n",
    "        'loss_val': loss_val,\n",
    "        'epoch': epoch,\n",
    "        'acc_train': acc_train,\n",
    "        'acc_val': acc_val,\n",
    "    }, os.path.join(model_path, model_name))\n",
    "\n",
    "\n",
    "def load_model(model_path, device=DEVICE):\n",
    "    return torch.load(model_path, map_location=device)"
   ]
  },
  {
   "cell_type": "markdown",
   "metadata": {},
   "source": [
    "### Constants"
   ]
  },
  {
   "cell_type": "code",
   "execution_count": 4,
   "metadata": {
    "execution": {
     "iopub.execute_input": "2021-08-12T12:46:32.337984Z",
     "iopub.status.busy": "2021-08-12T12:46:32.337689Z",
     "iopub.status.idle": "2021-08-12T12:46:32.356540Z",
     "shell.execute_reply": "2021-08-12T12:46:32.355372Z",
     "shell.execute_reply.started": "2021-08-12T12:46:32.337954Z"
    }
   },
   "outputs": [],
   "source": [
    "# Hyper Parameters (You can change as you like ... and see how it affects the results)\n",
    "LR = 3e-5\n",
    "BATCH_SIZE = 32\n",
    "IMG_WIDTH = 224\n",
    "IMG_HEIGHT = 224\n",
    "IMG_RESIZE = (IMG_HEIGHT, IMG_WIDTH)\n",
    "EPOCHS = 100\n",
    "# Constants\n",
    "NUM_WORKERS = 3 # Based on the \n",
    "NUM_CLASSES = 2\n",
    "CLASSES = ['NORMAL', 'PNEUMONIA']\n",
    "CHANNELS = 1\n",
    "MIN_ACC = float('-inf')\n",
    "# Data Path\n",
    "DATA_PATH = '../input/chest-xray-pneumonia/chest_xray/'\n",
    "TRAIN_DATA_PATH = os.path.join(DATA_PATH, 'train/')\n",
    "VAL_DATA_PATH = os.path.join(DATA_PATH, 'val/')\n",
    "TEST_DATA_PATH = os.path.join(DATA_PATH, 'test/')"
   ]
  },
  {
   "cell_type": "markdown",
   "metadata": {},
   "source": [
    "### Create Your Pipeline of image transformation"
   ]
  },
  {
   "cell_type": "code",
   "execution_count": null,
   "metadata": {},
   "outputs": [],
   "source": [
    "# Transformation\n",
    "TR = transforms.Compose([\n",
    "    # 1- convert to GrayScale,\n",
    "    # 2- Resize the Image,\n",
    "    # 3- Convert Image data into tensor,\n",
    "    # 4- Normalize your Image with mean=0.5, std=0.5 \n",
    "])"
   ]
  },
  {
   "cell_type": "markdown",
   "metadata": {},
   "source": [
    "### Dataset Preparation"
   ]
  },
  {
   "cell_type": "code",
   "execution_count": 6,
   "metadata": {
    "execution": {
     "iopub.execute_input": "2021-08-12T12:46:32.376412Z",
     "iopub.status.busy": "2021-08-12T12:46:32.375979Z",
     "iopub.status.idle": "2021-08-12T12:46:32.977890Z",
     "shell.execute_reply": "2021-08-12T12:46:32.976789Z",
     "shell.execute_reply.started": "2021-08-12T12:46:32.376375Z"
    },
    "scrolled": true
   },
   "outputs": [
    {
     "name": "stdout",
     "output_type": "stream",
     "text": [
      "CPU times: user 23.1 ms, sys: 19 ms, total: 42.1 ms\n",
      "Wall time: 591 ms\n"
     ]
    }
   ],
   "source": [
    "%%time\n",
    "df_train = ## Training And Validation Data Combined with columns: [image_path, label]\n",
    "df_test = ## Testing Data with columns: [image_path, label]"
   ]
  },
  {
   "cell_type": "code",
   "execution_count": 7,
   "metadata": {
    "execution": {
     "iopub.execute_input": "2021-08-12T12:46:32.979653Z",
     "iopub.status.busy": "2021-08-12T12:46:32.979368Z",
     "iopub.status.idle": "2021-08-12T12:46:32.985310Z",
     "shell.execute_reply": "2021-08-12T12:46:32.984615Z",
     "shell.execute_reply.started": "2021-08-12T12:46:32.979624Z"
    },
    "scrolled": true
   },
   "outputs": [
    {
     "name": "stdout",
     "output_type": "stream",
     "text": [
      "Images in Training set: 5,232\n",
      "Images in Testing set: 624\n"
     ]
    }
   ],
   "source": [
    "print(f\"Images in Training set: {df_train.shape[0]:,}\")\n",
    "print(f\"Images in Testing set: {df_test.shape[0]:,}\")"
   ]
  },
  {
   "cell_type": "code",
   "execution_count": 8,
   "metadata": {
    "execution": {
     "iopub.execute_input": "2021-08-12T12:46:34.365544Z",
     "iopub.status.busy": "2021-08-12T12:46:34.365010Z",
     "iopub.status.idle": "2021-08-12T12:46:34.387852Z",
     "shell.execute_reply": "2021-08-12T12:46:34.387109Z",
     "shell.execute_reply.started": "2021-08-12T12:46:34.365509Z"
    }
   },
   "outputs": [
    {
     "data": {
      "text/html": [
       "<div>\n",
       "<style scoped>\n",
       "    .dataframe tbody tr th:only-of-type {\n",
       "        vertical-align: middle;\n",
       "    }\n",
       "\n",
       "    .dataframe tbody tr th {\n",
       "        vertical-align: top;\n",
       "    }\n",
       "\n",
       "    .dataframe thead th {\n",
       "        text-align: right;\n",
       "    }\n",
       "</style>\n",
       "<table border=\"1\" class=\"dataframe\">\n",
       "  <thead>\n",
       "    <tr style=\"text-align: right;\">\n",
       "      <th></th>\n",
       "      <th>img_path</th>\n",
       "      <th>label</th>\n",
       "    </tr>\n",
       "  </thead>\n",
       "  <tbody>\n",
       "    <tr>\n",
       "      <th>1940</th>\n",
       "      <td>../input/chest-xray-pneumonia/chest_xray/train...</td>\n",
       "      <td>1</td>\n",
       "    </tr>\n",
       "    <tr>\n",
       "      <th>140</th>\n",
       "      <td>../input/chest-xray-pneumonia/chest_xray/train...</td>\n",
       "      <td>0</td>\n",
       "    </tr>\n",
       "    <tr>\n",
       "      <th>2200</th>\n",
       "      <td>../input/chest-xray-pneumonia/chest_xray/train...</td>\n",
       "      <td>1</td>\n",
       "    </tr>\n",
       "  </tbody>\n",
       "</table>\n",
       "</div>"
      ],
      "text/plain": [
       "                                               img_path  label\n",
       "1940  ../input/chest-xray-pneumonia/chest_xray/train...      1\n",
       "140   ../input/chest-xray-pneumonia/chest_xray/train...      0\n",
       "2200  ../input/chest-xray-pneumonia/chest_xray/train...      1"
      ]
     },
     "execution_count": 8,
     "metadata": {},
     "output_type": "execute_result"
    }
   ],
   "source": [
    "df_train.sample(3)"
   ]
  },
  {
   "cell_type": "code",
   "execution_count": 9,
   "metadata": {
    "execution": {
     "iopub.execute_input": "2021-08-12T12:46:35.587864Z",
     "iopub.status.busy": "2021-08-12T12:46:35.587313Z",
     "iopub.status.idle": "2021-08-12T12:46:35.743464Z",
     "shell.execute_reply": "2021-08-12T12:46:35.741610Z",
     "shell.execute_reply.started": "2021-08-12T12:46:35.587830Z"
    }
   },
   "outputs": [
    {
     "data": {
      "text/plain": [
       "<matplotlib.axes._subplots.AxesSubplot at 0x7f8d45eb1710>"
      ]
     },
     "execution_count": 9,
     "metadata": {},
     "output_type": "execute_result"
    },
    {
     "data": {
      "image/png": "[encoded data removed]",
      "text/plain": [
       "<Figure size 432x288 with 1 Axes>"
      ]
     },
     "metadata": {},
     "output_type": "display_data"
    }
   ],
   "source": [
    "# Take a look at the Target Variable"
   ]
  },
  {
   "cell_type": "markdown",
   "metadata": {},
   "source": [
    "Now given this high bias in our dataset ... we will fix it using 2 tricks ...\n",
    "  - weighted loss   \n",
    "  \n",
    "  so when our model **wrongly predict class 0** (the minority class) ... we **punish him more than** if he predicted class 1 wrong (the majority class)\n",
    "  - Balance the Evaluation dataset  \n",
    "  \n",
    "  we make our evalution dataset has same number of **class 0 and class 1** ... in-order to make the right decision when model has high accuracy"
   ]
  },
  {
   "cell_type": "markdown",
   "metadata": {},
   "source": [
    "### Weighted Loss"
   ]
  },
  {
   "cell_type": "code",
   "execution_count": null,
   "metadata": {
    "execution": {
     "iopub.execute_input": "2021-08-12T13:02:49.227445Z",
     "iopub.status.busy": "2021-08-12T13:02:49.227059Z",
     "iopub.status.idle": "2021-08-12T13:02:49.248530Z",
     "shell.execute_reply": "2021-08-12T13:02:49.247457Z",
     "shell.execute_reply.started": "2021-08-12T13:02:49.227411Z"
    }
   },
   "outputs": [],
   "source": [
    "## Apply Weighted Loss w.r.t Size of label\n",
    "## So class with low number of images get higher weight\n",
    "## while class with High number of images get lower weight\n",
    "\n",
    "weight = ## Write your code here\n",
    "criterion = nn.NLLLoss(weight= weight).to(DEVICE)\n",
    "# Show the Weights (should be close to this ==> [0.74, 0.25])\n",
    "print(criterion.weight)"
   ]
  },
  {
   "cell_type": "markdown",
   "metadata": {},
   "source": [
    "#### Training method"
   ]
  },
  {
   "cell_type": "code",
   "execution_count": null,
   "metadata": {
    "execution": {
     "iopub.execute_input": "2021-08-12T12:49:57.568701Z",
     "iopub.status.busy": "2021-08-12T12:49:57.568352Z",
     "iopub.status.idle": "2021-08-12T12:49:57.590431Z",
     "shell.execute_reply": "2021-08-12T12:49:57.589480Z",
     "shell.execute_reply.started": "2021-08-12T12:49:57.568669Z"
    }
   },
   "outputs": [],
   "source": [
    "def train_fn(batches, model, optim, scheduler, device=DEVICE):\n",
    "    model.train() # set the model mode => training\n",
    "    batch_acc = 0\n",
    "    ep_loss = 0\n",
    "    # Loop through the training batches\n",
    "    for batch in tqdm(batches, total=len(batches), position=0, leave=True):\n",
    "        \n",
    "        imgs, labels = # Get Your image and targets from the given batch\n",
    "        # Forward Propagation\n",
    "        labels_pred = ## Get Your predictions from model\n",
    "        # Calculate Loss\n",
    "        loss = ## Get your loss bet. Predictions and Targets\n",
    "        # Backward propagation (Check: https://discuss.pytorch.org/t/what-does-the-backward-function-do/9944)\n",
    "        ## - Zero your optimizer gradients\n",
    "        ## - Calculate loss gradient\n",
    "        ## - Make step with optimizer\n",
    "        ## - Accumulating Loss & Accuracy Across batches\n",
    "        ep_loss += loss.item()\n",
    "        batch_acc += sum(labels == labels_pred.argmax(1)).item()\n",
    "    # Calculate The whole Epoch Accuracy after the batches loop ends\n",
    "    ep_acc = batch_acc / (BATCH_SIZE * len(batches))\n",
    "    ## Return the ep_loss and the ep_acc\n",
    "    return ep_loss, ep_acc"
   ]
  },
  {
   "cell_type": "markdown",
   "metadata": {},
   "source": [
    "#### Evaluation method"
   ]
  },
  {
   "cell_type": "code",
   "execution_count": null,
   "metadata": {},
   "outputs": [],
   "source": [
    "def eval_fn(batches, model, device=DEVICE):\n",
    "    \"\"\"\n",
    "    Calculate the model accuracy & loss on given eval data ... no training is needed here\n",
    "    just prediction and comparing results\n",
    "    \"\"\"\n",
    "    ## Write your code here\n",
    "    return ep_loss, ep_acc"
   ]
  },
  {
   "cell_type": "markdown",
   "metadata": {},
   "source": [
    "#### Prediction method"
   ]
  },
  {
   "cell_type": "code",
   "execution_count": null,
   "metadata": {},
   "outputs": [],
   "source": [
    "def pred_fn(batches, model, device=DEVICE):\n",
    "    \"\"\"\n",
    "    Predict Test batches\n",
    "    Args:\n",
    "        batches (generator): Test Batches\n",
    "        model (model object): Trained Model\n",
    "        device (gpu/cpu device, optional): active device. Defaults to DEVICE.\n",
    "\n",
    "    Returns:\n",
    "        predictions: List of predictions\n",
    "        true_labels: List of true labels\n",
    "    \"\"\"\n",
    "    ## Write your code here\n",
    "    return predictions, true_labels"
   ]
  },
  {
   "cell_type": "markdown",
   "metadata": {},
   "source": [
    "### Dataset Class"
   ]
  },
  {
   "cell_type": "code",
   "execution_count": 88,
   "metadata": {
    "execution": {
     "iopub.execute_input": "2021-08-12T13:11:06.701894Z",
     "iopub.status.busy": "2021-08-12T13:11:06.701366Z",
     "iopub.status.idle": "2021-08-12T13:11:06.710785Z",
     "shell.execute_reply": "2021-08-12T13:11:06.709718Z",
     "shell.execute_reply.started": "2021-08-12T13:11:06.701847Z"
    }
   },
   "outputs": [],
   "source": [
    "class Dataset():\n",
    "\n",
    "    def __init__(self, img_paths, targets, transform=None):\n",
    "        ## Write your code here\n",
    "\n",
    "    def __len__(self):\n",
    "        ## Write your code here\n",
    "\n",
    "    def __getitem__(self, item):\n",
    "        ## Write your code here\n",
    "        return {\n",
    "            'images': ## Write your code here,\n",
    "            'targets': ## Write your code here\n",
    "            }"
   ]
  },
  {
   "cell_type": "markdown",
   "metadata": {},
   "source": [
    "### Model"
   ]
  },
  {
   "cell_type": "code",
   "execution_count": 101,
   "metadata": {
    "execution": {
     "iopub.execute_input": "2021-08-12T13:12:50.543796Z",
     "iopub.status.busy": "2021-08-12T13:12:50.543314Z",
     "iopub.status.idle": "2021-08-12T13:12:50.556089Z",
     "shell.execute_reply": "2021-08-12T13:12:50.555346Z",
     "shell.execute_reply.started": "2021-08-12T13:12:50.543762Z"
    }
   },
   "outputs": [],
   "source": [
    "class XrayClassifier(nn.Module):\n",
    "    def __init__(self, in_channels=1, out_channels=128, num_classes=2):\n",
    "        super(XrayClassifier, self).__init__()\n",
    "        # out_shape =  [ (n - k + 2*p) / s ] + 1\n",
    "        # p: (default = 0) padding\n",
    "        # s: (default = 1) stride\n",
    "        # k: kernel\n",
    "        # out_shape =  [n - k  + 1]\n",
    "        \n",
    "    def forward(self, x):\n",
    "        ## Write your code here\n",
    "        return out"
   ]
  },
  {
   "cell_type": "markdown",
   "metadata": {},
   "source": [
    "##### Test your model with random input"
   ]
  },
  {
   "cell_type": "code",
   "execution_count": 102,
   "metadata": {
    "execution": {
     "iopub.execute_input": "2021-08-12T13:12:50.994779Z",
     "iopub.status.busy": "2021-08-12T13:12:50.994276Z",
     "iopub.status.idle": "2021-08-12T13:12:52.023365Z",
     "shell.execute_reply": "2021-08-12T13:12:52.022236Z",
     "shell.execute_reply.started": "2021-08-12T13:12:50.994747Z"
    },
    "scrolled": true
   },
   "outputs": [
    {
     "name": "stdout",
     "output_type": "stream",
     "text": [
      "torch.Size([1, 2])\n"
     ]
    },
    {
     "data": {
      "text/plain": [
       "tensor([[-0.6931, -0.6931]], grad_fn=<LogSoftmaxBackward>)"
      ]
     },
     "execution_count": 102,
     "metadata": {},
     "output_type": "execute_result"
    }
   ],
   "source": [
    "IMG_WIDTH = 224\n",
    "IMG_HEIGHT = 224\n",
    "CHANNELS = 1\n",
    "BS = 1 # Batch Size\n",
    "ex = torch.rand(BS, CHANNELS, IMG_WIDTH, IMG_HEIGHT)\n",
    "model = XrayClassifier()\n",
    "model.eval()\n",
    "out = model(ex)\n",
    "print(out.shape)\n",
    "out"
   ]
  },
  {
   "cell_type": "markdown",
   "metadata": {},
   "source": [
    "### Split your Dataset"
   ]
  },
  {
   "cell_type": "code",
   "execution_count": 103,
   "metadata": {
    "execution": {
     "iopub.execute_input": "2021-08-12T13:12:52.025492Z",
     "iopub.status.busy": "2021-08-12T13:12:52.025196Z",
     "iopub.status.idle": "2021-08-12T13:12:52.042419Z",
     "shell.execute_reply": "2021-08-12T13:12:52.041238Z",
     "shell.execute_reply.started": "2021-08-12T13:12:52.025462Z"
    },
    "scrolled": true
   },
   "outputs": [
    {
     "name": "stdout",
     "output_type": "stream",
     "text": [
      "4,186 Training imgs\n",
      "1,046 Validation imgs\n"
     ]
    }
   ],
   "source": [
    "# Train Test Split with your custome balanced method\n",
    "train_imgs, val_imgs, train_labels, val_labels = ## Write your code here\n",
    "\n",
    "print(f\"{len(train_imgs):,} Training imgs\")\n",
    "print(f\"{len(val_imgs):,} Validation imgs\")"
   ]
  },
  {
   "cell_type": "markdown",
   "metadata": {},
   "source": [
    "### Check Validation labels ... should be equal"
   ]
  },
  {
   "cell_type": "code",
   "execution_count": null,
   "metadata": {},
   "outputs": [],
   "source": [
    "val_labels.value_counts()"
   ]
  },
  {
   "cell_type": "markdown",
   "metadata": {},
   "source": [
    "### Dataset instances for Train, Val & Test"
   ]
  },
  {
   "cell_type": "code",
   "execution_count": null,
   "metadata": {
    "execution": {
     "iopub.execute_input": "2021-08-12T13:12:52.044021Z",
     "iopub.status.busy": "2021-08-12T13:12:52.043730Z",
     "iopub.status.idle": "2021-08-12T13:12:52.048428Z",
     "shell.execute_reply": "2021-08-12T13:12:52.047686Z",
     "shell.execute_reply.started": "2021-08-12T13:12:52.043993Z"
    }
   },
   "outputs": [],
   "source": [
    "train_dataset = ## Write your code here\n",
    "val_dataset = ## Write your code here\n",
    "test_dataset = ## Write your code here"
   ]
  },
  {
   "cell_type": "markdown",
   "metadata": {},
   "source": [
    "### Data-Loader"
   ]
  },
  {
   "cell_type": "code",
   "execution_count": null,
   "metadata": {
    "execution": {
     "iopub.execute_input": "2021-08-12T13:12:52.494250Z",
     "iopub.status.busy": "2021-08-12T13:12:52.493680Z",
     "iopub.status.idle": "2021-08-12T13:12:52.499272Z",
     "shell.execute_reply": "2021-08-12T13:12:52.498552Z",
     "shell.execute_reply.started": "2021-08-12T13:12:52.494198Z"
    }
   },
   "outputs": [],
   "source": [
    "train_batches = ## Write your code here\n",
    "val_batches = ## Write your code here\n",
    "test_batches = ## Write your code here"
   ]
  },
  {
   "cell_type": "markdown",
   "metadata": {},
   "source": [
    "### Initialize your model, optimizer"
   ]
  },
  {
   "cell_type": "code",
   "execution_count": null,
   "metadata": {
    "execution": {
     "iopub.execute_input": "2021-08-12T13:13:42.415715Z",
     "iopub.status.busy": "2021-08-12T13:13:42.415351Z",
     "iopub.status.idle": "2021-08-12T13:13:42.614076Z",
     "shell.execute_reply": "2021-08-12T13:13:42.613215Z",
     "shell.execute_reply.started": "2021-08-12T13:13:42.415682Z"
    }
   },
   "outputs": [],
   "source": [
    "model = ## Write your code here\n",
    "optim = ## Write your code here # Note: Try with different optimizers and see how it affect the results..."
   ]
  },
  {
   "cell_type": "code",
   "execution_count": null,
   "metadata": {
    "execution": {
     "iopub.execute_input": "2021-08-12T13:13:42.989665Z",
     "iopub.status.busy": "2021-08-12T13:13:42.989327Z",
     "iopub.status.idle": "2021-08-12T13:13:43.001959Z",
     "shell.execute_reply": "2021-08-12T13:13:43.000905Z",
     "shell.execute_reply.started": "2021-08-12T13:13:42.989634Z"
    }
   },
   "outputs": [],
   "source": [
    "## Create History For saving your losses and accuracies\n",
    "history= {}\n",
    "history['train_loss'] = []\n",
    "history['val_loss'] = []\n",
    "history['train_acc'] = []\n",
    "history['val_acc'] = []"
   ]
  },
  {
   "cell_type": "markdown",
   "metadata": {},
   "source": [
    "### Training Loop"
   ]
  },
  {
   "cell_type": "code",
   "execution_count": null,
   "metadata": {
    "execution": {
     "iopub.execute_input": "2021-08-12T13:13:44.146411Z",
     "iopub.status.busy": "2021-08-12T13:13:44.145920Z",
     "iopub.status.idle": "2021-08-12T13:14:35.168955Z",
     "shell.execute_reply": "2021-08-12T13:14:35.167503Z",
     "shell.execute_reply.started": "2021-08-12T13:13:44.146378Z"
    }
   },
   "outputs": [],
   "source": [
    "for epoch in range(EPOCHS):\n",
    "        s = time()\n",
    "        # train\n",
    "        ep_train_loss, ep_train_acc = train_fn(train_batches, model, optim, scheduler)\n",
    "        # eval\n",
    "        ep_val_loss, ep_val_acc = eval_fn(val_batches, model)\n",
    "        e = time()\n",
    "\n",
    "        epoch_t = remainig_time(e - s)\n",
    "        whole_time = remainig_time((e - s) * (EPOCHS - epoch))\n",
    "        print(f\"\\nEpoch:{epoch}/{EPOCHS}---Loss-train:{ep_train_loss:.4f}---Loss-Val: {ep_val_loss:.4f}---Acc-Train:{(ep_train_acc*100):.2f}%---Acc-Val: {(ep_val_acc*100):.2f}%---Acc-Test: {(ep_test_acc*100):.2f}---%epoch elapsed:{epoch_t}---Remaining:{whole_time}\")\n",
    "        \n",
    "        ## Write your code here ## append the training loss\n",
    "        ## Write your code here ## append the validation loss\n",
    "        ## Write your code here ## append the training acc\n",
    "        ## Write your code here ## append the validation acc\n",
    "\n",
    "        if ep_val_acc > MIN_ACC:\n",
    "            print(\"Saving Model ...\")\n",
    "            model_name = f'Xray_ep_{epoch}_acc_{(ep_test_acc*100):.3f}_.pth'\n",
    "            MIN_ACC = ep_test_acc\n",
    "            # Save Your model Checkpoint\n",
    "            ## Write your code here"
   ]
  },
  {
   "cell_type": "markdown",
   "metadata": {},
   "source": [
    "## Prediction"
   ]
  },
  {
   "cell_type": "code",
   "execution_count": null,
   "metadata": {},
   "outputs": [],
   "source": [
    "MODEL_PATH = '' # Get your model path\n",
    "checkpoint = load_model(MODEL_PATH)\n",
    "model.load_state_dict(checkpoint['model_state_dict']) # Just loading the model weights"
   ]
  },
  {
   "cell_type": "code",
   "execution_count": null,
   "metadata": {},
   "outputs": [],
   "source": [
    "preds, labels = pred_fn(test_batches, model)"
   ]
  },
  {
   "cell_type": "code",
   "execution_count": null,
   "metadata": {},
   "outputs": [],
   "source": [
    "print(f\"Accuracy: {(np.array(preds) == np.array(labels)).mean()*100:.1f}% On Test Set\")"
   ]
  },
  {
   "cell_type": "code",
   "execution_count": null,
   "metadata": {},
   "outputs": [],
   "source": [
    "print(classification_report(labels, preds, target_names=CLASSES))"
   ]
  },
  {
   "cell_type": "markdown",
   "metadata": {},
   "source": [
    "### Create a confusion matrix and plot it"
   ]
  },
  {
   "cell_type": "code",
   "execution_count": null,
   "metadata": {},
   "outputs": [],
   "source": [
    "## Write your code here"
   ]
  },
  {
   "cell_type": "markdown",
   "metadata": {},
   "source": [
    "# Great Work ... 💪💪"
   ]
  },
  {
   "cell_type": "markdown",
   "metadata": {},
   "source": [
    "Now you're able to get and start applying your various types of ***DL approches*** and ***compete with many Kagglers***\n",
    "There exist huge amount of images data out there ... that you're now able to give it a try and apply your own model on ... Good Start 👍👍😊"
   ]
  }
 ],
 "metadata": {
  "kernelspec": {
   "display_name": "Python 3",
   "language": "python",
   "name": "python3"
  },
  "language_info": {
   "codemirror_mode": {
    "name": "ipython",
    "version": 3
   },
   "file_extension": ".py",
   "mimetype": "text/x-python",
   "name": "python",
   "nbconvert_exporter": "python",
   "pygments_lexer": "ipython3",
   "version": "3.7.2"
  }
 },
 "nbformat": 4,
 "nbformat_minor": 4
}
